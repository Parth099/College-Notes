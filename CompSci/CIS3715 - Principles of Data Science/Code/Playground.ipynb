{
 "cells": [
  {
   "cell_type": "code",
   "execution_count": null,
   "metadata": {},
   "outputs": [],
   "source": [
    "import numpy as np\n",
    "\n",
    "# joining numpy arrays\n",
    "a = np.array([\n",
    "    [1, 2], \n",
    "    [3, 4],\n",
    "])\n",
    "\n",
    "b = np.array([\n",
    "    [5, 6],\n",
    "    [7, 8]\n",
    "]) \n",
    "\n",
    "print(a, b, sep=\"\\n\\n\", end=\"\\n---\\n\")\n",
    "\n",
    "# Numpy concatenate is like “stacking” numpy arrays\n",
    "new1 = np.concatenate((a, b), axis=0)\n",
    "new2 = np.concatenate((a, b), axis=1)\n",
    "\n",
    "print(new1, new2, sep=\"\\n\\n\")"
   ]
  },
  {
   "cell_type": "code",
   "execution_count": null,
   "metadata": {},
   "outputs": [],
   "source": [
    "import pandas as pd\n",
    "\n",
    "# read in csv file\n",
    "df = pd.read_csv(\"./data/cars.csv\");\n",
    "\n",
    "# collect first row (iloc -> integer position)\n",
    "# It gets the first row of data which isnt the same as the labels\n",
    "row1 = df.iloc[0]\n",
    "\n",
    "# all brands/models \n",
    "# does not include the label\n",
    "col1 = df.iloc[:, 0]\n",
    "\n",
    "\n",
    "# multiples rows and columns\n",
    "# suppose we only wanted the first two cars and their mpg\n",
    "first_two_cars_w_mpg = df.iloc[[0, 1], [0, 1]]\n",
    "print(first_two_cars_w_mpg)"
   ]
  },
  {
   "cell_type": "code",
   "execution_count": null,
   "metadata": {},
   "outputs": [],
   "source": [
    "# converting dataframes to np arrays \n",
    "car_data = df.iloc[:, 1:-1]\n",
    "car_data_np = car_data.to_numpy()\n",
    "print(type(car_data_np))\n",
    "print(car_data_np)\n"
   ]
  },
  {
   "cell_type": "code",
   "execution_count": null,
   "metadata": {},
   "outputs": [],
   "source": [
    "import matplotlib.pyplot as plt\n",
    "\n",
    "x_domain = np.array([1, 4, 6, 8])\n",
    "y_range  = np.array([1, 1.5, 2, 1]) \n",
    "\n",
    "# replace bar with `scatter` or `plot`\n",
    "plt.bar(x_domain, y_range); plt.show()"
   ]
  },
  {
   "cell_type": "code",
   "execution_count": null,
   "metadata": {},
   "outputs": [],
   "source": []
  }
 ],
 "metadata": {
  "kernelspec": {
   "display_name": "Python 3 (ipykernel)",
   "language": "python",
   "name": "python3"
  },
  "language_info": {
   "codemirror_mode": {
    "name": "ipython",
    "version": 3
   },
   "file_extension": ".py",
   "mimetype": "text/x-python",
   "name": "python",
   "nbconvert_exporter": "python",
   "pygments_lexer": "ipython3",
   "version": "3.8.10"
  }
 },
 "nbformat": 4,
 "nbformat_minor": 2
}
