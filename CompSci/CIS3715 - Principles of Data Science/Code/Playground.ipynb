{
 "cells": [
  {
   "cell_type": "code",
   "execution_count": 11,
   "metadata": {},
   "outputs": [
    {
     "name": "stdout",
     "output_type": "stream",
     "text": [
      "[[1 2]\n",
      " [3 4]]\n",
      "\n",
      "[[5 6]\n",
      " [7 8]]\n",
      "---\n",
      "[[1 2]\n",
      " [3 4]\n",
      " [5 6]\n",
      " [7 8]]\n",
      "\n",
      "[[1 2 5 6]\n",
      " [3 4 7 8]]\n"
     ]
    }
   ],
   "source": [
    "import numpy as np\n",
    "\n",
    "# joining numpy arrays\n",
    "a = np.array([\n",
    "    [1, 2], \n",
    "    [3, 4],\n",
    "])\n",
    "\n",
    "b = np.array([\n",
    "    [5, 6],\n",
    "    [7, 8]\n",
    "]) \n",
    "\n",
    "print(a, b, sep=\"\\n\\n\", end=\"\\n---\\n\")\n",
    "\n",
    "# Numpy concatenate is like “stacking” numpy arrays\n",
    "new1 = np.concatenate((a, b), axis=0)\n",
    "new2 = np.concatenate((a, b), axis=1)\n",
    "\n",
    "print(new1, new2, sep=\"\\n\\n\")"
   ]
  },
  {
   "cell_type": "code",
   "execution_count": 12,
   "metadata": {},
   "outputs": [
    {
     "name": "stdout",
     "output_type": "stream",
     "text": [
      "           Brand   mpg\n",
      "0      Mazda RX4  21.0\n",
      "1  Mazda RX4 Wag  21.0\n"
     ]
    }
   ],
   "source": [
    "import pandas as pd\n",
    "\n",
    "# read in csv file\n",
    "df = pd.read_csv(\"./data/cars.csv\");\n",
    "\n",
    "# collect first row (iloc -> integer position)\n",
    "# It gets the first row of data which isnt the same as the labels\n",
    "row1 = df.iloc[0]\n",
    "\n",
    "# all brands/models \n",
    "# does not include the label\n",
    "col1 = df.iloc[:, 0]\n",
    "\n",
    "\n",
    "# multiples rows and columns\n",
    "# suppose we only wanted the first two cars and their mpg\n",
    "first_two_cars_w_mpg = df.iloc[[0, 1], [0, 1]]\n",
    "print(first_two_cars_w_mpg)"
   ]
  },
  {
   "cell_type": "code",
   "execution_count": 13,
   "metadata": {},
   "outputs": [
    {
     "name": "stdout",
     "output_type": "stream",
     "text": [
      "<class 'numpy.ndarray'>\n",
      "[[ 21.      6.    160.    110.      3.9     2.62   16.46    0.      1.\n",
      "    4.   ]\n",
      " [ 21.      6.    160.    110.      3.9     2.875  17.02    0.      1.\n",
      "    4.   ]\n",
      " [ 22.8     4.    108.     93.      3.85    2.32   18.61    1.      1.\n",
      "    4.   ]\n",
      " [ 21.4     6.    258.    110.      3.08    3.215  19.44    1.      0.\n",
      "    3.   ]\n",
      " [ 18.7     8.    360.    175.      3.15    3.44   17.02    0.      0.\n",
      "    3.   ]\n",
      " [ 18.1     6.    225.    105.      2.76    3.46   20.22    1.      0.\n",
      "    3.   ]\n",
      " [ 14.3     8.    360.    245.      3.21    3.57   15.84    0.      0.\n",
      "    3.   ]\n",
      " [ 24.4     4.    146.7    62.      3.69    3.19   20.      1.      0.\n",
      "    4.   ]\n",
      " [ 22.8     4.    140.8    95.      3.92    3.15   22.9     1.      0.\n",
      "    4.   ]\n",
      " [ 19.2     6.    167.6   123.      3.92    3.44   18.3     1.      0.\n",
      "    4.   ]\n",
      " [ 17.8     6.    167.6   123.      3.92    3.44   18.9     1.      0.\n",
      "    4.   ]\n",
      " [ 16.4     8.    275.8   180.      3.07    4.07   17.4     0.      0.\n",
      "    3.   ]\n",
      " [ 17.3     8.    275.8   180.      3.07    3.73   17.6     0.      0.\n",
      "    3.   ]\n",
      " [ 15.2     8.    275.8   180.      3.07    3.78   18.      0.      0.\n",
      "    3.   ]\n",
      " [ 10.4     8.    472.    205.      2.93    5.25   17.98    0.      0.\n",
      "    3.   ]\n",
      " [ 10.4     8.    460.    215.      3.      5.424  17.82    0.      0.\n",
      "    3.   ]\n",
      " [ 14.7     8.    440.    230.      3.23    5.345  17.42    0.      0.\n",
      "    3.   ]\n",
      " [ 32.4     4.     78.7    66.      4.08    2.2    19.47    1.      1.\n",
      "    4.   ]\n",
      " [ 30.4     4.     75.7    52.      4.93    1.615  18.52    1.      1.\n",
      "    4.   ]\n",
      " [ 33.9     4.     71.1    65.      4.22    1.835  19.9     1.      1.\n",
      "    4.   ]\n",
      " [ 21.5     4.    120.1    97.      3.7     2.465  20.01    1.      0.\n",
      "    3.   ]\n",
      " [ 15.5     8.    318.    150.      2.76    3.52   16.87    0.      0.\n",
      "    3.   ]\n",
      " [ 15.2     8.    304.    150.      3.15    3.435  17.3     0.      0.\n",
      "    3.   ]\n",
      " [ 13.3     8.    350.    245.      3.73    3.84   15.41    0.      0.\n",
      "    3.   ]\n",
      " [ 19.2     8.    400.    175.      3.08    3.845  17.05    0.      0.\n",
      "    3.   ]\n",
      " [ 27.3     4.     79.     66.      4.08    1.935  18.9     1.      1.\n",
      "    4.   ]\n",
      " [ 26.      4.    120.3    91.      4.43    2.14   16.7     0.      1.\n",
      "    5.   ]\n",
      " [ 30.4     4.     95.1   113.      3.77    1.513  16.9     1.      1.\n",
      "    5.   ]\n",
      " [ 15.8     8.    351.    264.      4.22    3.17   14.5     0.      1.\n",
      "    5.   ]\n",
      " [ 19.7     6.    145.    175.      3.62    2.77   15.5     0.      1.\n",
      "    5.   ]\n",
      " [ 15.      8.    301.    335.      3.54    3.57   14.6     0.      1.\n",
      "    5.   ]\n",
      " [ 21.4     4.    121.    109.      4.11    2.78   18.6     1.      1.\n",
      "    4.   ]]\n"
     ]
    }
   ],
   "source": [
    "# converting dataframes to np arrays \n",
    "car_data = df.iloc[:, 1:-1]\n",
    "car_data_np = car_data.to_numpy()\n",
    "print(type(car_data_np))\n",
    "print(car_data_np)\n"
   ]
  },
  {
   "cell_type": "code",
   "execution_count": 14,
   "metadata": {},
   "outputs": [
    {
     "data": {
      "image/png": "[encoded data removed]",
      "text/plain": [
       "<Figure size 432x288 with 1 Axes>"
      ]
     },
     "metadata": {
      "needs_background": "light"
     },
     "output_type": "display_data"
    }
   ],
   "source": [
    "import matplotlib.pyplot as plt\n",
    "\n",
    "x_domain = np.array([1, 4, 6, 8])\n",
    "y_range  = np.array([1, 1.5, 2, 1]) \n",
    "\n",
    "# replace bar with `scatter` or `plot`\n",
    "plt.bar(x_domain, y_range); plt.show()"
   ]
  },
  {
   "cell_type": "code",
   "execution_count": 17,
   "metadata": {},
   "outputs": [
    {
     "data": {
      "text/plain": [
       "array([1.        , 0.15453729, 0.09703504, 0.        , 0.00808625])"
      ]
     },
     "execution_count": 17,
     "metadata": {},
     "output_type": "execute_result"
    }
   ],
   "source": [
    "import pandas as pd\n",
    "\n",
    "housing = pd.read_csv(\"./data/housing.csv\")\n",
    "\n",
    "X = housing.values[0:5, 5:9].astype(dtype=np.float64)\n",
    "\n",
    "x_min = X.min(axis=0)\n",
    "x_max = X.max(axis=0)\n",
    "\n",
    "X = (X - x_min) / (x_max - x_min)\n",
    "X[:, -1]\n"
   ]
  },
  {
   "cell_type": "code",
   "execution_count": null,
   "metadata": {},
   "outputs": [],
   "source": []
  }
 ],
 "metadata": {
  "kernelspec": {
   "display_name": "Python 3",
   "language": "python",
   "name": "python3"
  },
  "language_info": {
   "codemirror_mode": {
    "name": "ipython",
    "version": 3
   },
   "file_extension": ".py",
   "mimetype": "text/x-python",
   "name": "python",
   "nbconvert_exporter": "python",
   "pygments_lexer": "ipython3",
   "version": "3.10.5"
  },
  "vscode": {
   "interpreter": {
    "hash": "369f2c481f4da34e4445cda3fffd2e751bd1c4d706f27375911949ba6bb62e1c"
   }
  }
 },
 "nbformat": 4,
 "nbformat_minor": 2
}
