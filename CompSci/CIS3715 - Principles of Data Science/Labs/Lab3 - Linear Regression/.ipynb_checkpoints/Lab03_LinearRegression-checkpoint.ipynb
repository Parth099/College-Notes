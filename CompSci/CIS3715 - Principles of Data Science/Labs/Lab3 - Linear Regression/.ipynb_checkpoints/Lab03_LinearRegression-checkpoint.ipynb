{
 "cells": [
  {
   "cell_type": "markdown",
   "metadata": {},
   "source": [
    "# Lab 3: Linear Regression"
   ]
  },
  {
   "cell_type": "markdown",
   "metadata": {},
   "source": [
    "In this assignment, we will learn the Linear Regression model. \n",
    "\n",
    "First, please study the given example, which uses linear regression for the house price prediction task. In this example, you will learn how to preprocess data, how to train the model, and how to evaluate the model. \n",
    "\n",
    "Based on the given example and Lab Assignment 2, your task is to use the linear regression model to predict the medical cost for the dataset given in Lab Assignment 2. "
   ]
  },
  {
   "cell_type": "markdown",
   "metadata": {},
   "source": [
    "## 1. Example: Linear Regression for House Price Prediction"
   ]
  },
  {
   "cell_type": "markdown",
   "metadata": {},
   "source": [
    "In this example, we use the house price dataset. It gives the attributes and price of each house. The task is to build a linear regression model to make prediction for the price of the house."
   ]
  },
  {
   "cell_type": "markdown",
   "metadata": {},
   "source": [
    "### 1.1 Preprocess the raw data\n",
    "\n",
    "When given a new dataset, we need to deal with the missing values and categorical features. "
   ]
  },
  {
   "cell_type": "code",
   "execution_count": 1,
   "metadata": {},
   "outputs": [
    {
     "name": "stdout",
     "output_type": "stream",
     "text": [
      "longitude             0\n",
      "latitude              0\n",
      "housing_median_age    0\n",
      "total_rooms           0\n",
      "total_bedrooms        0\n",
      "population            0\n",
      "households            0\n",
      "median_income         0\n",
      "median_house_value    0\n",
      "ocean_proximity       0\n",
      "dtype: int64\n",
      "<class 'pandas.core.frame.DataFrame'>\n",
      "RangeIndex: 20640 entries, 0 to 20639\n",
      "Data columns (total 10 columns):\n",
      " #   Column              Non-Null Count  Dtype  \n",
      "---  ------              --------------  -----  \n",
      " 0   longitude           20640 non-null  float64\n",
      " 1   latitude            20640 non-null  float64\n",
      " 2   housing_median_age  20640 non-null  int64  \n",
      " 3   total_rooms         20640 non-null  int64  \n",
      " 4   total_bedrooms      20640 non-null  float64\n",
      " 5   population          20640 non-null  int64  \n",
      " 6   households          20640 non-null  int64  \n",
      " 7   median_income       20640 non-null  float64\n",
      " 8   median_house_value  20640 non-null  int64  \n",
      " 9   ocean_proximity     20640 non-null  int64  \n",
      "dtypes: float64(4), int64(6)\n",
      "memory usage: 1.6 MB\n",
      "None\n"
     ]
    }
   ],
   "source": [
    "import pandas as pd\n",
    "import numpy as np\n",
    "from sklearn.preprocessing import LabelEncoder # cat data -> [0, 1, ..., n-1]\n",
    "from sklearn.model_selection import train_test_split \n",
    "from sklearn.preprocessing import StandardScaler # z-score scaler\n",
    "from sklearn.linear_model import LinearRegression, Ridge, Lasso\n",
    "from sklearn.metrics import mean_absolute_error,mean_squared_error\n",
    "import matplotlib.pyplot as plt\n",
    "\n",
    "\n",
    "df = pd.read_csv('housing.csv')\n",
    "\n",
    "# 0. fill in missing values\n",
    "mean_val = df['total_bedrooms'].mean()\n",
    "df['total_bedrooms'] = df['total_bedrooms'].fillna(mean_val)\n",
    "print(df.isnull().sum())\n",
    "\n",
    "# 1. convert categorical features to numerical values\n",
    "labelencoder = LabelEncoder()\n",
    "df['ocean_proximity'] = labelencoder.fit_transform(df['ocean_proximity'])\n",
    "print(df.info())"
   ]
  },
  {
   "cell_type": "markdown",
   "metadata": {},
   "source": [
    "### 1.2 Split the preprocessed dataset into training set and testing set\n",
    "\n",
    "For the supervised learning, we need to split the dataset into the training set and test set. The training set is used to learn model parameters and the testing set is used to evaluate the learned model. \n",
    "\n",
    "Note that the testing set is NOT allowed to be used in the training phase. "
   ]
  },
  {
   "cell_type": "code",
   "execution_count": 2,
   "metadata": {},
   "outputs": [
    {
     "name": "stdout",
     "output_type": "stream",
     "text": [
      "(16512, 9)\n",
      "(4128, 9)\n",
      "(16512,)\n",
      "(4128,)\n"
     ]
    }
   ],
   "source": [
    "# 2. split samples\n",
    "house_fea = df.drop('median_house_value', axis=1).values # drop returns a new df with labels dropped\n",
    "house_price = df['median_house_value'].values # 'y'\n",
    "\n",
    "# normalization?\n",
    "house_price = house_price / np.max(house_price)\n",
    "\n",
    "X_train,X_test,y_train,y_test = train_test_split(house_fea,\n",
    "                                                 house_price,\n",
    "                                                 test_size=0.2,\n",
    "                                                 random_state=42)\n",
    "print(X_train.shape)\n",
    "print(X_test.shape)\n",
    "print(y_train.shape)\n",
    "print(y_test.shape)\n",
    "\n",
    "\n",
    "# normalize features\n",
    "normalizer = StandardScaler()\n",
    "X_train = normalizer.fit_transform(X_train)\n",
    "X_test = normalizer.transform(X_test)"
   ]
  },
  {
   "cell_type": "markdown",
   "metadata": {},
   "source": [
    "### 1.3 Train the linear regression model \n",
    "\n",
    "$\\min_{w}\\frac{1}{n}\\|y-X\\mathbf{w}\\|_2^2$\n",
    "\n",
    "\n",
    "\n",
    "Here, we use the training set to learn the model parameter $\\mathbf{w}=(w_0, w_1, w_2, \\cdots, w_d)$. \n",
    "\n",
    "Then, we compute MAE, MSE, and RMSE to see how well the learned model fit the training set. "
   ]
  },
  {
   "cell_type": "code",
   "execution_count": 3,
   "metadata": {},
   "outputs": [
    {
     "name": "stdout",
     "output_type": "stream",
     "text": [
      "bias is 0.41438855869860675\n",
      "coefficients  is [-0.17170955 -0.18189176  0.02984855 -0.0353864   0.09753502 -0.08776816\n",
      "  0.03520256  0.15428789 -0.00090304]\n",
      "prediction for training set:\n",
      "MAE is: 0.10125365457873205\n",
      "MSE is: 0.0192437559440504\n",
      "RMSE is: 0.13872186541439818\n"
     ]
    }
   ],
   "source": [
    "#3. train the model\n",
    "lr = LinearRegression()\n",
    "\n",
    "lr.fit(X_train,y_train)\n",
    "\n",
    "print(\"bias is \"+str(lr.intercept_))\n",
    "print(\"coefficients  is \"+str(lr.coef_))\n",
    "\n",
    "y_train_pred = lr.predict(X_train)\n",
    "\n",
    "mae = mean_absolute_error(y_train_pred,y_train)\n",
    "mse = mean_squared_error(y_train_pred,y_train)\n",
    "rmse = np.sqrt(mse)\n",
    "\n",
    "print('prediction for training set:')\n",
    "print('MAE is: {}'.format(mae))\n",
    "print('MSE is: {}'.format(mse))\n",
    "print('RMSE is: {}'.format(rmse))\n"
   ]
  },
  {
   "cell_type": "markdown",
   "metadata": {},
   "source": [
    "### 1.4 Evaluate the linear regression model\n",
    "\n",
    "After obtaining the model parameter $\\mathbf{w}=(w_0, w_1, w_2, \\cdots, w_d)$, the linear regression model is determined. Then, we need to evaluate this model to see how well this model generaizes on the testing set. "
   ]
  },
  {
   "cell_type": "code",
   "execution_count": 4,
   "metadata": {},
   "outputs": [
    {
     "name": "stdout",
     "output_type": "stream",
     "text": [
      "prediction for testing set:\n",
      "MAE is: 0.10369354831097967\n",
      "MSE is: 0.020220019584503236\n",
      "RMSE is: 0.14219711524677017\n"
     ]
    },
    {
     "data": {
      "image/png": "[encoded data removed]",
      "text/plain": [
       "<Figure size 640x480 with 1 Axes>"
      ]
     },
     "metadata": {},
     "output_type": "display_data"
    }
   ],
   "source": [
    "#4. evaluate the model\n",
    "y_test_pred = lr.predict(X_test)\n",
    "\n",
    "mae = mean_absolute_error(y_test_pred,y_test)\n",
    "mse = mean_squared_error(y_test_pred,y_test)\n",
    "rmse = np.sqrt(mse)\n",
    "\n",
    "print('prediction for testing set:')\n",
    "print('MAE is: {}'.format(mae))\n",
    "print('MSE is: {}'.format(mse))\n",
    "print('RMSE is: {}'.format(rmse))\n",
    "\n",
    "# the graph only compare first five houses in the regression (truth vs prediction)\n",
    "labels = ['House1', 'House2', 'House3', 'House4', 'House5']\n",
    "x = np.arange(len(labels))  # the label locations\n",
    "width = 0.35  # the width of the bars\n",
    "\n",
    "# subplot used to draw multiple bar charts on one chart\n",
    "fig, ax = plt.subplots()\n",
    "\n",
    "# numerically the x axis is irrelevant, its been changed to fit the graph\n",
    "rects1 = ax.bar(x - width/2, y_test[0:5], width, label='ground truth')\n",
    "rects2 = ax.bar(x + width/2, y_test_pred[0:5], width, label='prediction')\n",
    "\n",
    "ax.set_ylabel('Price')\n",
    "ax.set_xticks(x)\n",
    "ax.set_xticklabels(labels)\n",
    "ax.legend()\n",
    "\n",
    "plt.show()\n"
   ]
  },
  {
   "cell_type": "markdown",
   "metadata": {},
   "source": [
    "## 2. Task: Linear Regression for Medical Cost Prediction\n",
    "\n",
    "Following the given example, build a linear regression model for [the insurance dataset](./insurance.csv) to predict the medical cost.  \n"
   ]
  },
  {
   "cell_type": "markdown",
   "metadata": {},
   "source": [
    "### 2.1 Preprocess the raw data\n",
    "\n",
    "Based on your Lab Assignment 2, deal with the missing values and categorical features. "
   ]
  },
  {
   "cell_type": "code",
   "execution_count": 5,
   "metadata": {
    "scrolled": false
   },
   "outputs": [
    {
     "name": "stdout",
     "output_type": "stream",
     "text": [
      "The data has missing data: False\n"
     ]
    }
   ],
   "source": [
    "from sklearn.preprocessing import OneHotEncoder\n",
    "\n",
    "# load in dataset\n",
    "insurance = pd.read_csv(\"./insurance.csv\")\n",
    "\n",
    "# check if any cell is NaN\n",
    "has_missing_values = insurance.isnull().values.any()\n",
    "print(\"The data has missing data:\", has_missing_values)\n",
    "\n",
    "categorical_features = insurance.select_dtypes(include=['object']).columns\n",
    "numercial_features   = insurance.select_dtypes(exclude=['object']).columns\n",
    "\n",
    "#!!! Preprocessing\n",
    "Encoder = OneHotEncoder()\n",
    "\n",
    "# One-hot-encode the data\n",
    "Encoded = Encoder.fit(insurance[categorical_features])\n",
    "transformed = Encoder.transform(insurance[categorical_features])\n",
    "ohe_col_names = Encoded.get_feature_names_out()\n",
    "\n",
    "# generate a dataframe from sparce matrix\n",
    "encoded_DataFrame = pd.DataFrame.sparse.from_spmatrix(transformed, columns=ohe_col_names)\n",
    "\n",
    "# drop and replace\n",
    "insurance_OHE = pd.concat([insurance.drop(columns=categorical_features), encoded_DataFrame], axis=1)\n",
    "\n",
    "# normalize numercial features\n",
    "z_scaler = StandardScaler()\n",
    "scaled = z_scaler.fit(insurance_OHE[numercial_features])\n",
    "transformed = z_scaler.transform(insurance_OHE[numercial_features]) \n",
    "zscaled_col_names = z_scaler.get_feature_names_out()\n",
    "\n",
    "# numpy to df\n",
    "scaled_dataframe = pd.DataFrame(transformed, columns=zscaled_col_names)\n",
    "\n",
    "# drop and replace\n",
    "insurance_OHE_ZSCALED = pd.concat([scaled_dataframe, encoded_DataFrame], axis=1)"
   ]
  },
  {
   "cell_type": "markdown",
   "metadata": {},
   "source": [
    "### 2.2 Split the preprocessed dataset into training set and testing set\n",
    "\n",
    "Use 80% of samples as the training set and 20% of samples as the testing set"
   ]
  },
  {
   "cell_type": "code",
   "execution_count": 10,
   "metadata": {},
   "outputs": [
    {
     "name": "stdout",
     "output_type": "stream",
     "text": [
      "(1338, 11)\n",
      "shape of training_x:  (1070, 11)\n",
      "shape of testing_x :  (268, 11)\n",
      "shape of training_y:  (1070,)\n",
      "shape of testing_y :  (268,)\n"
     ]
    }
   ],
   "source": [
    "# target column (values read from UNNORMALIZED (raw) data)\n",
    "charges = insurance['charges'].values\n",
    "feature_matrix =  insurance_OHE_ZSCALED.drop(columns=['charges']).values\n",
    "\n",
    "print(feature_matrix.shape)\n",
    "\n",
    "# create a 80:20 split on the data\n",
    "TRAIN_PERCENT = .8\n",
    "SEED = 50\n",
    "X_train, X_test, Y_train, Y_test = train_test_split(feature_matrix, \n",
    "                                                    charges, \n",
    "                                                    train_size=TRAIN_PERCENT, \n",
    "                                                    random_state=SEED)\n",
    "\n",
    "print(\"shape of training_x: \", X_train.shape)\n",
    "print(\"shape of testing_x : \", X_test.shape)\n",
    "print(\"shape of training_y: \", Y_train.shape)\n",
    "print(\"shape of testing_y : \", Y_test.shape)"
   ]
  },
  {
   "cell_type": "markdown",
   "metadata": {},
   "source": [
    "### 2.3 Train the linear regression model \n",
    "\n",
    "Use the Linear regression model to do prediction\n",
    "\n",
    "$\\min_{w}\\frac{1}{n}\\|y-X\\mathbf{w}\\|_2^2$\n",
    "\n",
    "Please output the learned model parameter $\\mathbf{w}$ and see how the learned model fit the training set. "
   ]
  },
  {
   "cell_type": "code",
   "execution_count": 7,
   "metadata": {},
   "outputs": [
    {
     "name": "stdout",
     "output_type": "stream",
     "text": [
      "\n",
      "bias is 20119.349446301934\n",
      "coefficients are [  3538.42874336   2048.37257438    511.8423896      42.96366011\n",
      "    -42.96366011 -11768.4377337   11768.4377337     375.47763388\n",
      "    424.31162509   -685.28202744   -114.50723154]\n",
      "\n",
      "Error on Training Data:\n",
      "MAE : 4197.729505724185\n",
      "MSE : 37060086.19885744\n",
      "RMSE: 6087.699581850064\n",
      "\n"
     ]
    }
   ],
   "source": [
    "# train\n",
    "insurance_lr = LinearRegression()\n",
    "reg = insurance_lr.fit(X_train, Y_train);\n",
    "\n",
    "Y_pred = insurance_lr.predict(X_train)\n",
    "\n",
    "MAE = mean_absolute_error(Y_pred,Y_train);\n",
    "MSE = mean_squared_error(Y_pred,Y_train);\n",
    "\n",
    "info = f'''\n",
    "bias is {str(reg.intercept_)}\n",
    "coefficients are {str(reg.coef_)}\n",
    "\n",
    "Error on Training Data:\n",
    "MAE : {MAE}\n",
    "MSE : {MSE}\n",
    "RMSE: {np.sqrt(MSE)}\n",
    "'''\n",
    "\n",
    "print(info)"
   ]
  },
  {
   "cell_type": "markdown",
   "metadata": {},
   "source": [
    "### 2.4 Evaluate the linear regression model\n",
    "\n",
    "\n",
    "Evaluate the learned model to see how well this model generaizes on the testing set. "
   ]
  },
  {
   "cell_type": "code",
   "execution_count": 8,
   "metadata": {},
   "outputs": [
    {
     "name": "stdout",
     "output_type": "stream",
     "text": [
      "\n",
      "Random Seed=50\n",
      "bias is 0.41438855869860675\n",
      "coefficients are [-0.17170955 -0.18189176  0.02984855 -0.0353864   0.09753502 -0.08776816\n",
      "  0.03520256  0.15428789 -0.00090304]\n",
      "\n",
      "Errors on Testing Data:\n",
      "MAE : 4008.5154836742763\n",
      "MSE : 34742386.898058675\n",
      "RMSE: 5894.267291025974\n",
      "\n",
      "r2: 0.6833921162028804 (r^2 value)\n",
      "\n"
     ]
    }
   ],
   "source": [
    "from sklearn.metrics import r2_score\n",
    "\n",
    "Y_pred = insurance_lr.predict(X_test)\n",
    "\n",
    "MAE = mean_absolute_error(Y_pred,Y_test);\n",
    "MSE = mean_squared_error(Y_pred,Y_test);\n",
    "r2 = r2_score(Y_pred,Y_test)\n",
    "\n",
    "info = f'''\n",
    "Random Seed={SEED}\n",
    "bias is {str(lr.intercept_)}\n",
    "coefficients are {str(lr.coef_)}\n",
    "\n",
    "Errors on Testing Data:\n",
    "MAE : {MAE}\n",
    "MSE : {MSE}\n",
    "RMSE: {np.sqrt(MSE)}\n",
    "\n",
    "r2: {r2} (r^2 value)\n",
    "'''\n",
    "\n",
    "print(info) "
   ]
  },
  {
   "cell_type": "markdown",
   "metadata": {},
   "source": [
    "### 2.5 Use the ridge regression model to do prediction\n",
    "\n",
    "$\\min_{w}\\frac{1}{n}\\|y-Xw\\|_2^2 + \\lambda \\|w\\|_2^2$\n",
    "\n",
    "* 1.5.1 Compare its performance on the testing set with that of the standard linear regression model $\\min_{w}\\frac{1}{n}\\|y-Xw\\|_2^2$\n",
    "\n",
    "* 1.5.2 Use different $\\lambda$ to see how it affects the performance of the ridge regression  model on the testing set\n"
   ]
  },
  {
   "cell_type": "code",
   "execution_count": 9,
   "metadata": {},
   "outputs": [
    {
     "name": "stdout",
     "output_type": "stream",
     "text": [
      "Best lambda value = 0.001 with acc = 0.7832549120603669\n",
      "Bias: 20119.328976252084\n",
      "Coefficients are [  3538.42503293   2048.36924029    511.84285936     42.96139446\n",
      "    -42.9613944  -11768.40343412  11768.40343353    375.47557492\n",
      "    424.30855789   -685.2766904    -114.50744103]\n",
      "\n",
      "Overall improvement in r2 0.09986279585748647\n"
     ]
    }
   ],
   "source": [
    "from sklearn.linear_model import Ridge\n",
    "\n",
    "lambdas = [0.001, 0.005, 0.01, 0.05, 0.1, 0.5, 1, 5, 10, 50, 100]\n",
    "best_lambda = (0, float('-inf'), None, 0)\n",
    "\n",
    "# test all hyperparams\n",
    "for alpha in lambdas:\n",
    "    \n",
    "    # train model\n",
    "    reg = Ridge(alpha=alpha)\n",
    "    reg.fit(X_train, Y_train)\n",
    "    \n",
    "    # run test portion\n",
    "    Y_pred = reg.predict(X_test)\n",
    "    \n",
    "    # get accuracy score\n",
    "    acc = r2_score(Y_test, Y_pred)\n",
    "    \n",
    "    # update lambda\n",
    "    best_lambda = max(best_lambda, (alpha, acc, reg.coef_, reg.intercept_), key=lambda t: t[1])\n",
    "    \n",
    "# unpack values\n",
    "best_hyperp, acc, coef, interp = best_lambda\n",
    "\n",
    "print(f'Best lambda value = {best_hyperp} with acc = {acc}')\n",
    "print(f'Bias: {interp}\\nCoefficients are {coef}')\n",
    "print(\"\\nOverall improvement in r2\", best_lambda[1] - r2)"
   ]
  },
  {
   "cell_type": "code",
   "execution_count": null,
   "metadata": {},
   "outputs": [],
   "source": []
  }
 ],
 "metadata": {
  "kernelspec": {
   "display_name": "Python 3 (ipykernel)",
   "language": "python",
   "name": "python3"
  },
  "language_info": {
   "codemirror_mode": {
    "name": "ipython",
    "version": 3
   },
   "file_extension": ".py",
   "mimetype": "text/x-python",
   "name": "python",
   "nbconvert_exporter": "python",
   "pygments_lexer": "ipython3",
   "version": "3.8.10"
  }
 },
 "nbformat": 4,
 "nbformat_minor": 2
}
